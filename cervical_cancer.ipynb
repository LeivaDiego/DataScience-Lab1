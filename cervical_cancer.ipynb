{
 "cells": [
  {
   "cell_type": "markdown",
   "metadata": {},
   "source": [
    "# Data Science - Laboratorio 1\n",
    "## Análisis Exploratorio, PCA y Apriori\n",
    "---\n",
    "**Integrantes**\n",
    "- Diego Leiva\n",
    "- Pablo Orellana\n",
    "---"
   ]
  }
 ],
 "metadata": {
  "language_info": {
   "name": "python"
  }
 },
 "nbformat": 4,
 "nbformat_minor": 2
}
